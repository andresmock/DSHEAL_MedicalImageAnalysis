{
 "cells": [
  {
   "cell_type": "code",
   "execution_count": 1,
   "metadata": {},
   "outputs": [
    {
     "name": "stderr",
     "output_type": "stream",
     "text": [
      "c:\\Users\\andre\\anaconda3\\envs\\DSHEAL_proj1_GaMo\\Lib\\site-packages\\tqdm\\auto.py:21: TqdmWarning: IProgress not found. Please update jupyter and ipywidgets. See https://ipywidgets.readthedocs.io/en/stable/user_install.html\n",
      "  from .autonotebook import tqdm as notebook_tqdm\n"
     ]
    }
   ],
   "source": [
    "import optuna\n",
    "import pandas as pd"
   ]
  },
  {
   "cell_type": "code",
   "execution_count": 1,
   "metadata": {},
   "outputs": [
    {
     "name": "stderr",
     "output_type": "stream",
     "text": [
      "c:\\Users\\andre\\anaconda3\\envs\\DSHEAL_proj1_GaMo\\Lib\\site-packages\\tqdm\\auto.py:21: TqdmWarning: IProgress not found. Please update jupyter and ipywidgets. See https://ipywidgets.readthedocs.io/en/stable/user_install.html\n",
      "  from .autonotebook import tqdm as notebook_tqdm\n"
     ]
    },
    {
     "name": "stdout",
     "output_type": "stream",
     "text": [
      "Gefundene Studien in der DB:\n",
      "- malaria_phase1_basics\n"
     ]
    }
   ],
   "source": [
    "import optuna\n",
    "\n",
    "# Verwende die Storage-URL\n",
    "storage_url = \"sqlite:///C:/Users/andre/Desktop/git_repository_zhaw/DSHEAL_project_FS25_GaMo/malaria_optuna.db\"\n",
    "\n",
    "# Lade alle Studien zusammen mit ihren Zusammenfassungen\n",
    "study_summaries = optuna.study.get_all_study_summaries(storage=storage_url)\n",
    "\n",
    "# Studiennamen anzeigen\n",
    "print(\"Gefundene Studien in der DB:\")\n",
    "for s in study_summaries:\n",
    "    print(f\"- {s.study_name}\")"
   ]
  },
  {
   "cell_type": "code",
   "execution_count": 4,
   "metadata": {},
   "outputs": [
    {
     "name": "stdout",
     "output_type": "stream",
     "text": [
      "Trial 0 | Status: 3 | Value: None | Params: {'lr': 1.8584597343644933e-05, 'momentum': 0.7987402717049866, 'batch_size': 16, 'optimizer': 'Adam', 'augmentation': 'basic', 'num_filters': 16, 'fc_size': 64, 'dropout': 0.0, 'weight_decay': 0.0}\n",
      "Trial 1 | Status: 3 | Value: None | Params: {'lr': 1.6286185162333897e-05, 'momentum': 0.9714422068232904, 'batch_size': 32, 'optimizer': 'Adam', 'augmentation': 'none', 'num_filters': 16, 'fc_size': 64, 'dropout': 0.0, 'weight_decay': 0.0}\n"
     ]
    }
   ],
   "source": [
    "import optuna\n",
    "\n",
    "study = optuna.load_study(\n",
    "    study_name=\"malaria_phase1_basics\",\n",
    "    storage=\"sqlite:///C:/Users/andre/Desktop/git_repository_zhaw/DSHEAL_project_FS25_GaMo/malaria_optuna.db\"\n",
    ")\n",
    "\n",
    "\n",
    "\n",
    "for trial in study.trials:\n",
    "    print(f\"Trial {trial.number} | Status: {trial.state} | Value: {trial.value} | Params: {trial.params}\")\n"
   ]
  },
  {
   "cell_type": "code",
   "execution_count": null,
   "metadata": {},
   "outputs": [],
   "source": []
  }
 ],
 "metadata": {
  "kernelspec": {
   "display_name": "DSHEAL_proj1_GaMo",
   "language": "python",
   "name": "python3"
  },
  "language_info": {
   "codemirror_mode": {
    "name": "ipython",
    "version": 3
   },
   "file_extension": ".py",
   "mimetype": "text/x-python",
   "name": "python",
   "nbconvert_exporter": "python",
   "pygments_lexer": "ipython3",
   "version": "3.11.11"
  }
 },
 "nbformat": 4,
 "nbformat_minor": 2
}
